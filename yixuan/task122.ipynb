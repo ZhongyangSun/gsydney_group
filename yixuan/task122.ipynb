{
 "cells": [
  {
   "cell_type": "code",
   "execution_count": 47,
   "id": "09ae1dce",
   "metadata": {},
   "outputs": [],
   "source": [
    "# import some pkg\n",
    "import pandas as pd\n",
    "import numpy as np\n",
    "import geopandas as gpd\n",
    "from shapely.wkt import loads\n",
    "from shapely.geometry import Point, Polygon, MultiPolygon\n",
    "from geoalchemy2 import Geometry, WKTElement\n",
    "from sqlalchemy import create_engine, text\n",
    "import psycopg2\n",
    "import psycopg2.extras\n",
    "import json\n",
    "import folium\n",
    "from branca.colormap import linear\n",
    "import requests\n",
    "import time\n",
    "import tqdm\n",
    "from shapely.wkb import loads as load_wkb\n"
   ]
  },
  {
   "cell_type": "code",
   "execution_count": 48,
   "id": "a14e8bd7",
   "metadata": {},
   "outputs": [],
   "source": [
    "# some SRID\n",
    "GAD2020_SRID = 7844\n",
    "GDA94_SRID = 4283\n",
    "WGS84_SRID = 4326"
   ]
  },
  {
   "cell_type": "code",
   "execution_count": 49,
   "id": "5c742fd5",
   "metadata": {},
   "outputs": [],
   "source": [
    "# utils\n",
    "\n",
    "def data_summary(df):\n",
    "    print(df.info())\n",
    "    print(df.head())\n",
    "\n",
    "def shapely_to_WKT(geom, srid):\n",
    "    if geom.geom_type == 'Polygon':\n",
    "        geom = MultiPolygon([geom])\n",
    "    return WKTElement(geom.wkt, srid)\n",
    "\n",
    "def check_unique(df, key):\n",
    "    return df[key].nunique() == len(df[key])"
   ]
  },
  {
   "cell_type": "markdown",
   "id": "af315121",
   "metadata": {},
   "source": [
    "# Task 1 Import all datasets, clean if needed"
   ]
  },
  {
   "cell_type": "code",
   "execution_count": 50,
   "id": "15bf17b8",
   "metadata": {},
   "outputs": [
    {
     "name": "stdout",
     "output_type": "stream",
     "text": [
      "<class 'geopandas.geodataframe.GeoDataFrame'>\n",
      "RangeIndex: 2473 entries, 0 to 2472\n",
      "Data columns (total 17 columns):\n",
      " #   Column      Non-Null Count  Dtype   \n",
      "---  ------      --------------  -----   \n",
      " 0   SA2_CODE21  2473 non-null   object  \n",
      " 1   SA2_NAME21  2473 non-null   object  \n",
      " 2   CHG_FLAG21  2473 non-null   object  \n",
      " 3   CHG_LBL21   2473 non-null   object  \n",
      " 4   SA3_CODE21  2473 non-null   object  \n",
      " 5   SA3_NAME21  2473 non-null   object  \n",
      " 6   SA4_CODE21  2473 non-null   object  \n",
      " 7   SA4_NAME21  2473 non-null   object  \n",
      " 8   GCC_CODE21  2473 non-null   object  \n",
      " 9   GCC_NAME21  2473 non-null   object  \n",
      " 10  STE_CODE21  2473 non-null   object  \n",
      " 11  STE_NAME21  2473 non-null   object  \n",
      " 12  AUS_CODE21  2473 non-null   object  \n",
      " 13  AUS_NAME21  2473 non-null   object  \n",
      " 14  AREASQKM21  2454 non-null   float64 \n",
      " 15  LOCI_URI21  2473 non-null   object  \n",
      " 16  geometry    2454 non-null   geometry\n",
      "dtypes: float64(1), geometry(1), object(15)\n",
      "memory usage: 328.6+ KB\n",
      "None\n",
      "  SA2_CODE21                       SA2_NAME21 CHG_FLAG21  CHG_LBL21  \\\n",
      "0  101021007                        Braidwood          0  No change   \n",
      "1  101021008                          Karabar          0  No change   \n",
      "2  101021009                       Queanbeyan          0  No change   \n",
      "3  101021010                Queanbeyan - East          0  No change   \n",
      "4  101021012  Queanbeyan West - Jerrabomberra          0  No change   \n",
      "\n",
      "  SA3_CODE21  SA3_NAME21 SA4_CODE21      SA4_NAME21 GCC_CODE21   GCC_NAME21  \\\n",
      "0      10102  Queanbeyan        101  Capital Region      1RNSW  Rest of NSW   \n",
      "1      10102  Queanbeyan        101  Capital Region      1RNSW  Rest of NSW   \n",
      "2      10102  Queanbeyan        101  Capital Region      1RNSW  Rest of NSW   \n",
      "3      10102  Queanbeyan        101  Capital Region      1RNSW  Rest of NSW   \n",
      "4      10102  Queanbeyan        101  Capital Region      1RNSW  Rest of NSW   \n",
      "\n",
      "  STE_CODE21       STE_NAME21 AUS_CODE21 AUS_NAME21  AREASQKM21  \\\n",
      "0          1  New South Wales        AUS  Australia   3418.3525   \n",
      "1          1  New South Wales        AUS  Australia      6.9825   \n",
      "2          1  New South Wales        AUS  Australia      4.7620   \n",
      "3          1  New South Wales        AUS  Australia     13.0032   \n",
      "4          1  New South Wales        AUS  Australia     13.6748   \n",
      "\n",
      "                                          LOCI_URI21  \\\n",
      "0  http://linked.data.gov.au/dataset/asgsed3/SA2/...   \n",
      "1  http://linked.data.gov.au/dataset/asgsed3/SA2/...   \n",
      "2  http://linked.data.gov.au/dataset/asgsed3/SA2/...   \n",
      "3  http://linked.data.gov.au/dataset/asgsed3/SA2/...   \n",
      "4  http://linked.data.gov.au/dataset/asgsed3/SA2/...   \n",
      "\n",
      "                                            geometry  \n",
      "0  POLYGON ((149.58424 -35.44426, 149.58444 -35.4...  \n",
      "1  POLYGON ((149.21899 -35.36738, 149.21800 -35.3...  \n",
      "2  POLYGON ((149.21326 -35.34325, 149.21619 -35.3...  \n",
      "3  POLYGON ((149.24034 -35.34781, 149.24024 -35.3...  \n",
      "4  POLYGON ((149.19572 -35.36126, 149.19970 -35.3...  \n"
     ]
    }
   ],
   "source": [
    "#SA2 raw data\n",
    "sa2_data = gpd.read_file(\"SA2_2021_AUST_GDA2020.shp\")\n",
    "data_summary(sa2_data)"
   ]
  },
  {
   "cell_type": "code",
   "execution_count": 51,
   "id": "439a7ee8",
   "metadata": {},
   "outputs": [
    {
     "name": "stdout",
     "output_type": "stream",
     "text": [
      "<class 'geopandas.geodataframe.GeoDataFrame'>\n",
      "Int64Index: 373 entries, 28 to 641\n",
      "Data columns (total 6 columns):\n",
      " #   Column         Non-Null Count  Dtype  \n",
      "---  ------         --------------  -----  \n",
      " 0   sa2_id         373 non-null    int64  \n",
      " 1   sa2_name       373 non-null    object \n",
      " 2   sa4_id         373 non-null    object \n",
      " 3   sa4_name       373 non-null    object \n",
      " 4   sa2_area_sqkm  373 non-null    float64\n",
      " 5   geom           373 non-null    object \n",
      "dtypes: float64(1), int64(1), object(4)\n",
      "memory usage: 20.4+ KB\n",
      "None\n",
      "       sa2_id                     sa2_name sa4_id       sa4_name  \\\n",
      "28  102011028     Avoca Beach - Copacabana    102  Central Coast   \n",
      "29  102011029  Box Head - MacMasters Beach    102  Central Coast   \n",
      "30  102011030              Calga - Kulnura    102  Central Coast   \n",
      "31  102011031          Erina - Green Point    102  Central Coast   \n",
      "32  102011032        Gosford - Springfield    102  Central Coast   \n",
      "\n",
      "    sa2_area_sqkm                                               geom  \n",
      "28         6.4376  MULTIPOLYGON (((151.413733024921 -33.465580583...  \n",
      "29        32.0802  MULTIPOLYGON (((151.37484081570685 -33.5005199...  \n",
      "30       767.9512  MULTIPOLYGON (((151.20449037540152 -33.5328022...  \n",
      "31        33.7934  MULTIPOLYGON (((151.37193611462118 -33.4369790...  \n",
      "32        16.9123  MULTIPOLYGON (((151.32348639265098 -33.4277852...  \n"
     ]
    }
   ],
   "source": [
    "# cleanning SA2 dropping unnesserary columns\n",
    "sa2_greater_sydney = sa2_data[sa2_data[\"GCC_NAME21\"] == \"Greater Sydney\"] # filtering\n",
    "sa2_greater_sydney = sa2_greater_sydney[['SA2_CODE21', 'SA2_NAME21', 'SA4_CODE21', 'SA4_NAME21', 'AREASQKM21', 'geometry']] # keeping nessary columns\n",
    "# rename columns\n",
    "sa2_greater_sydney.rename(columns={\n",
    "    \"SA2_CODE21\": \"sa2_id\", # primary key\n",
    "    \"SA2_NAME21\": \"sa2_name\",\n",
    "    \"SA4_CODE21\": \"sa4_id\",\n",
    "    \"SA4_NAME21\": \"sa4_name\",\n",
    "    \"AREASQKM21\": \"sa2_area_sqkm\",\n",
    "    'geometry': \"geom\"\n",
    "}, inplace= True)\n",
    "sa2_greater_sydney[\"sa2_id\"] = sa2_greater_sydney[\"sa2_id\"].astype('int64')\n",
    "sa2_greater_sydney['geom'] = sa2_greater_sydney['geom'].apply(lambda x: shapely_to_WKT(geom=x,srid=GDA94_SRID))  # convert shapely to WKT\n",
    "sa2_greater_sydney.dropna(inplace=True) # drop NA values\n",
    "data_summary(sa2_greater_sydney)"
   ]
  },
  {
   "cell_type": "code",
   "execution_count": 52,
   "id": "1904a636",
   "metadata": {},
   "outputs": [
    {
     "name": "stdout",
     "output_type": "stream",
     "text": [
      "<class 'pandas.core.frame.DataFrame'>\n",
      "RangeIndex: 12217 entries, 0 to 12216\n",
      "Data columns (total 11 columns):\n",
      " #   Column                  Non-Null Count  Dtype \n",
      "---  ------                  --------------  ----- \n",
      " 0   industry_code           12217 non-null  object\n",
      " 1   industry_name           12217 non-null  object\n",
      " 2   sa2_code                12217 non-null  int64 \n",
      " 3   sa2_name                12217 non-null  object\n",
      " 4   0_to_50k_businesses     12217 non-null  int64 \n",
      " 5   50k_to_200k_businesses  12217 non-null  int64 \n",
      " 6   200k_to_2m_businesses   12217 non-null  int64 \n",
      " 7   2m_to_5m_businesses     12217 non-null  int64 \n",
      " 8   5m_to_10m_businesses    12217 non-null  int64 \n",
      " 9   10m_or_more_businesses  12217 non-null  int64 \n",
      " 10  total_businesses        12217 non-null  int64 \n",
      "dtypes: int64(8), object(3)\n",
      "memory usage: 1.0+ MB\n",
      "None\n",
      "  industry_code                      industry_name   sa2_code  \\\n",
      "0             A  Agriculture, Forestry and Fishing  101021007   \n",
      "1             A  Agriculture, Forestry and Fishing  101021008   \n",
      "2             A  Agriculture, Forestry and Fishing  101021009   \n",
      "3             A  Agriculture, Forestry and Fishing  101021010   \n",
      "4             A  Agriculture, Forestry and Fishing  101021012   \n",
      "\n",
      "                          sa2_name  0_to_50k_businesses  \\\n",
      "0                        Braidwood                  136   \n",
      "1                          Karabar                    6   \n",
      "2                       Queanbeyan                    6   \n",
      "3                Queanbeyan - East                    0   \n",
      "4  Queanbeyan West - Jerrabomberra                    7   \n",
      "\n",
      "   50k_to_200k_businesses  200k_to_2m_businesses  2m_to_5m_businesses  \\\n",
      "0                      92                     63                    4   \n",
      "1                       3                      0                    0   \n",
      "2                       4                      3                    0   \n",
      "3                       3                      0                    0   \n",
      "4                       4                      5                    0   \n",
      "\n",
      "   5m_to_10m_businesses  10m_or_more_businesses  total_businesses  \n",
      "0                     0                       0               296  \n",
      "1                     0                       0                 9  \n",
      "2                     0                       3                15  \n",
      "3                     0                       0                 3  \n",
      "4                     0                       0                16  \n"
     ]
    }
   ],
   "source": [
    "# businesses raw data\n",
    "businesses = pd.read_csv(\"Businesses.csv\")\n",
    "data_summary(businesses)"
   ]
  },
  {
   "cell_type": "code",
   "execution_count": 53,
   "id": "be68604c",
   "metadata": {},
   "outputs": [
    {
     "name": "stdout",
     "output_type": "stream",
     "text": [
      "<class 'pandas.core.frame.DataFrame'>\n",
      "Int64Index: 7087 entries, 28 to 12215\n",
      "Data columns (total 3 columns):\n",
      " #   Column            Non-Null Count  Dtype \n",
      "---  ------            --------------  ----- \n",
      " 0   industry_name     7087 non-null   object\n",
      " 1   sa2_id            7087 non-null   int64 \n",
      " 2   total_businesses  7087 non-null   int64 \n",
      "dtypes: int64(2), object(1)\n",
      "memory usage: 221.5+ KB\n",
      "None\n",
      "                        industry_name     sa2_id  total_businesses\n",
      "28  Agriculture, Forestry and Fishing  102011028                 6\n",
      "29  Agriculture, Forestry and Fishing  102011029                17\n",
      "30  Agriculture, Forestry and Fishing  102011030               215\n",
      "31  Agriculture, Forestry and Fishing  102011031                27\n",
      "32  Agriculture, Forestry and Fishing  102011032                19\n"
     ]
    }
   ],
   "source": [
    "# cleaning businesses data\n",
    "businesses = businesses[['industry_name', 'sa2_code', 'total_businesses']]\n",
    "# rename columns\n",
    "businesses.rename(columns={\n",
    "    \"sa2_code\": \"sa2_id\", # foreign key\n",
    "}, inplace= True)\n",
    "businesses = businesses[businesses['sa2_id'].isin(sa2_greater_sydney['sa2_id'])] #filter down to the ”Greater Sydney” GCC\n",
    "businesses.dropna(inplace=True)\n",
    "data_summary(businesses)"
   ]
  },
  {
   "cell_type": "code",
   "execution_count": 54,
   "id": "82044fa6",
   "metadata": {},
   "outputs": [
    {
     "name": "stdout",
     "output_type": "stream",
     "text": [
      "<class 'geopandas.geodataframe.GeoDataFrame'>\n",
      "RangeIndex: 30 entries, 0 to 29\n",
      "Data columns (total 18 columns):\n",
      " #   Column      Non-Null Count  Dtype   \n",
      "---  ------      --------------  -----   \n",
      " 0   USE_ID      30 non-null     object  \n",
      " 1   CATCH_TYPE  30 non-null     object  \n",
      " 2   USE_DESC    30 non-null     object  \n",
      " 3   ADD_DATE    30 non-null     object  \n",
      " 4   KINDERGART  30 non-null     int64   \n",
      " 5   YEAR1       30 non-null     int64   \n",
      " 6   YEAR2       30 non-null     int64   \n",
      " 7   YEAR3       30 non-null     int64   \n",
      " 8   YEAR4       30 non-null     int64   \n",
      " 9   YEAR5       30 non-null     int64   \n",
      " 10  YEAR6       30 non-null     int64   \n",
      " 11  YEAR7       30 non-null     int64   \n",
      " 12  YEAR8       30 non-null     int64   \n",
      " 13  YEAR9       30 non-null     int64   \n",
      " 14  YEAR10      30 non-null     int64   \n",
      " 15  YEAR11      30 non-null     int64   \n",
      " 16  YEAR12      30 non-null     int64   \n",
      " 17  geometry    30 non-null     geometry\n",
      "dtypes: geometry(1), int64(13), object(4)\n",
      "memory usage: 4.3+ KB\n",
      "None\n",
      "  USE_ID CATCH_TYPE             USE_DESC  ADD_DATE  KINDERGART  YEAR1  YEAR2  \\\n",
      "0   8416  HIGH_COED       Ku-ring-gai HS  20230114           0      0      0   \n",
      "1   8161  HIGH_BOYS         Randwick BHS  20200220           0      0      0   \n",
      "2   8539  HIGH_COED  SSC Blackwattle Bay  20220609           0      0      0   \n",
      "3   8400  HIGH_COED           St Ives HS  20230114           0      0      0   \n",
      "4   8555  HIGH_COED          Rose Bay SC  20200220           0      0      0   \n",
      "\n",
      "   YEAR3  YEAR4  YEAR5  YEAR6  YEAR7  YEAR8  YEAR9  YEAR10  YEAR11  YEAR12  \\\n",
      "0      0      0      0      0   2024   2024   2024    2024    2024    2024   \n",
      "1      0      0      0      0   2024   2024   2024    2024    2024    2024   \n",
      "2      0      0      0      0      0      0      0       0    2024    2024   \n",
      "3      0      0      0      0   2024   2024   2024    2024    2024    2024   \n",
      "4      0      0      0      0   2024   2024   2024    2024    2024    2024   \n",
      "\n",
      "                                            geometry  \n",
      "0  POLYGON ((151.19849 -33.53990, 151.19945 -33.5...  \n",
      "1  POLYGON ((151.27152 -33.91402, 151.27152 -33.9...  \n",
      "2  POLYGON ((151.15292 -33.83939, 151.16144 -33.8...  \n",
      "3  POLYGON ((151.17794 -33.69820, 151.17859 -33.6...  \n",
      "4  POLYGON ((151.28072 -33.83287, 151.28095 -33.8...  \n"
     ]
    }
   ],
   "source": [
    "# catchments future raw data\n",
    "catchments_future = gpd.read_file(\"catchments/catchments_future.shp\")\n",
    "data_summary(catchments_future)"
   ]
  },
  {
   "cell_type": "code",
   "execution_count": 55,
   "id": "dcfe618b",
   "metadata": {},
   "outputs": [],
   "source": [
    "# cleaning catchments future raw data\n",
    "catchments_future = catchments_future[[\"USE_ID\", \"CATCH_TYPE\", \"geometry\"]] # drop unused columns\n",
    "catchments_future.rename(columns={\n",
    "    \"USE_ID\": \"use_id\",\n",
    "    \"CATCH_TYPE\": \"catch_type\",\n",
    "    \"geometry\": \"geom\"\n",
    "}, inplace=True)"
   ]
  },
  {
   "cell_type": "code",
   "execution_count": 56,
   "id": "2cb16fc4",
   "metadata": {},
   "outputs": [
    {
     "name": "stdout",
     "output_type": "stream",
     "text": [
      "<class 'geopandas.geodataframe.GeoDataFrame'>\n",
      "RangeIndex: 1662 entries, 0 to 1661\n",
      "Data columns (total 19 columns):\n",
      " #   Column      Non-Null Count  Dtype   \n",
      "---  ------      --------------  -----   \n",
      " 0   USE_ID      1662 non-null   object  \n",
      " 1   CATCH_TYPE  1662 non-null   object  \n",
      " 2   USE_DESC    1662 non-null   object  \n",
      " 3   ADD_DATE    1335 non-null   object  \n",
      " 4   KINDERGART  1662 non-null   object  \n",
      " 5   YEAR1       1662 non-null   object  \n",
      " 6   YEAR2       1662 non-null   object  \n",
      " 7   YEAR3       1662 non-null   object  \n",
      " 8   YEAR4       1662 non-null   object  \n",
      " 9   YEAR5       1662 non-null   object  \n",
      " 10  YEAR6       1662 non-null   object  \n",
      " 11  YEAR7       1662 non-null   object  \n",
      " 12  YEAR8       1662 non-null   object  \n",
      " 13  YEAR9       1662 non-null   object  \n",
      " 14  YEAR10      1662 non-null   object  \n",
      " 15  YEAR11      1662 non-null   object  \n",
      " 16  YEAR12      1662 non-null   object  \n",
      " 17  PRIORITY    4 non-null      object  \n",
      " 18  geometry    1662 non-null   geometry\n",
      "dtypes: geometry(1), object(18)\n",
      "memory usage: 246.8+ KB\n",
      "None\n",
      "  USE_ID CATCH_TYPE         USE_DESC  ADD_DATE KINDERGART YEAR1 YEAR2 YEAR3  \\\n",
      "0   2838    PRIMARY       Parklea PS  20181210          Y     Y     Y     Y   \n",
      "1   2404    PRIMARY    Lindfield EPS  20211219          Y     Y     Y     Y   \n",
      "2   4393    PRIMARY  Carlingford WPS  20220223          Y     Y     Y     Y   \n",
      "3   4615    PRIMARY   Caddies Ck  PS  20181210          Y     Y     Y     Y   \n",
      "4   3918    PRIMARY       Killara PS  20211219          Y     Y     Y     Y   \n",
      "\n",
      "  YEAR4 YEAR5 YEAR6 YEAR7 YEAR8 YEAR9 YEAR10 YEAR11 YEAR12 PRIORITY  \\\n",
      "0     Y     Y     Y     N     N     N      N      N      N     None   \n",
      "1     Y     Y     Y     N     N     N      N      N      N     None   \n",
      "2     Y     Y     Y     N     N     N      N      N      N     None   \n",
      "3     Y     Y     Y     N     N     N      N      N      N     None   \n",
      "4     Y     Y     Y     N     N     N      N      N      N     None   \n",
      "\n",
      "                                            geometry  \n",
      "0  POLYGON ((150.93564 -33.71612, 150.93715 -33.7...  \n",
      "1  POLYGON ((151.18336 -33.74748, 151.18443 -33.7...  \n",
      "2  POLYGON ((151.04518 -33.77303, 151.04526 -33.7...  \n",
      "3  POLYGON ((150.92567 -33.72960, 150.92602 -33.7...  \n",
      "4  POLYGON ((151.15379 -33.75586, 151.15404 -33.7...  \n"
     ]
    }
   ],
   "source": [
    "# catchments primary raw data\n",
    "catchments_primary = gpd.read_file(\"catchments/catchments_primary.shp\")\n",
    "data_summary(catchments_primary)"
   ]
  },
  {
   "cell_type": "code",
   "execution_count": 57,
   "id": "ed6b42ad",
   "metadata": {},
   "outputs": [],
   "source": [
    "# cleaning catchments primary raw data\n",
    "catchments_primary = catchments_primary[[\"USE_ID\", \"CATCH_TYPE\", \"geometry\"]] # drop unused columns\n",
    "catchments_primary.rename(columns={\n",
    "    \"USE_ID\": \"use_id\",\n",
    "    \"CATCH_TYPE\": \"catch_type\",\n",
    "    \"geometry\": \"geom\"\n",
    "}, inplace=True)"
   ]
  },
  {
   "cell_type": "code",
   "execution_count": 58,
   "id": "1c6f9800",
   "metadata": {},
   "outputs": [
    {
     "name": "stdout",
     "output_type": "stream",
     "text": [
      "<class 'geopandas.geodataframe.GeoDataFrame'>\n",
      "RangeIndex: 436 entries, 0 to 435\n",
      "Data columns (total 19 columns):\n",
      " #   Column      Non-Null Count  Dtype   \n",
      "---  ------      --------------  -----   \n",
      " 0   USE_ID      436 non-null    object  \n",
      " 1   CATCH_TYPE  436 non-null    object  \n",
      " 2   USE_DESC    436 non-null    object  \n",
      " 3   ADD_DATE    372 non-null    object  \n",
      " 4   KINDERGART  436 non-null    object  \n",
      " 5   YEAR1       436 non-null    object  \n",
      " 6   YEAR2       436 non-null    object  \n",
      " 7   YEAR3       436 non-null    object  \n",
      " 8   YEAR4       436 non-null    object  \n",
      " 9   YEAR5       436 non-null    object  \n",
      " 10  YEAR6       436 non-null    object  \n",
      " 11  YEAR7       436 non-null    object  \n",
      " 12  YEAR8       436 non-null    object  \n",
      " 13  YEAR9       436 non-null    object  \n",
      " 14  YEAR10      436 non-null    object  \n",
      " 15  YEAR11      436 non-null    object  \n",
      " 16  YEAR12      436 non-null    object  \n",
      " 17  PRIORITY    7 non-null      object  \n",
      " 18  geometry    436 non-null    geometry\n",
      "dtypes: geometry(1), object(18)\n",
      "memory usage: 64.8+ KB\n",
      "None\n",
      "  USE_ID CATCH_TYPE         USE_DESC  ADD_DATE KINDERGART YEAR1 YEAR2 YEAR3  \\\n",
      "0   8503  HIGH_COED     Billabong HS  20200507          N     N     N     N   \n",
      "1   8266  HIGH_COED  James Fallon HS  20200507          N     N     N     N   \n",
      "2   8505  HIGH_COED        Murray HS  20200507          N     N     N     N   \n",
      "3   8458  HIGH_COED     Kingswood HS  20201016          N     N     N     N   \n",
      "4   8559  HIGH_COED       Jamison HS  20201016          N     N     N     N   \n",
      "\n",
      "  YEAR4 YEAR5 YEAR6 YEAR7 YEAR8 YEAR9 YEAR10 YEAR11 YEAR12 PRIORITY  \\\n",
      "0     N     N     N     Y     Y     Y      Y      Y      Y     None   \n",
      "1     N     N     N     Y     Y     Y      Y      Y      Y     None   \n",
      "2     N     N     N     Y     Y     Y      Y      Y      Y     None   \n",
      "3     N     N     N     Y     Y     Y      Y      Y      Y     None   \n",
      "4     N     N     N     Y     Y     Y      Y      Y      Y     None   \n",
      "\n",
      "                                            geometry  \n",
      "0  POLYGON ((146.67182 -35.31444, 146.68930 -35.3...  \n",
      "1  POLYGON ((147.08734 -35.86271, 147.10413 -35.8...  \n",
      "2  POLYGON ((146.81448 -35.78341, 146.81250 -35.7...  \n",
      "3  MULTIPOLYGON (((150.68600 -33.74031, 150.68631...  \n",
      "4  POLYGON ((150.69513 -33.75627, 150.68936 -33.7...  \n"
     ]
    }
   ],
   "source": [
    "# catchments secondary raw data\n",
    "catchments_secondary = gpd.read_file(\"catchments/catchments_secondary.shp\")\n",
    "data_summary(catchments_secondary)"
   ]
  },
  {
   "cell_type": "code",
   "execution_count": 59,
   "id": "a7620460",
   "metadata": {},
   "outputs": [],
   "source": [
    "# cleaning catchments secondary raw data\n",
    "catchments_secondary = catchments_secondary[[\"USE_ID\", \"CATCH_TYPE\", \"geometry\"]] # drop unused columns\n",
    "catchments_secondary.rename(columns={\n",
    "    \"USE_ID\": \"use_id\",\n",
    "    \"CATCH_TYPE\": \"catch_type\",\n",
    "    \"geometry\": \"geom\"\n",
    "}, inplace=True)"
   ]
  },
  {
   "cell_type": "code",
   "execution_count": 60,
   "id": "4709b2b3",
   "metadata": {},
   "outputs": [
    {
     "name": "stdout",
     "output_type": "stream",
     "text": [
      "<class 'geopandas.geodataframe.GeoDataFrame'>\n",
      "Int64Index: 2128 entries, 0 to 435\n",
      "Data columns (total 3 columns):\n",
      " #   Column      Non-Null Count  Dtype   \n",
      "---  ------      --------------  -----   \n",
      " 0   use_id      2128 non-null   object  \n",
      " 1   catch_type  2128 non-null   object  \n",
      " 2   geom        2128 non-null   geometry\n",
      "dtypes: geometry(1), object(2)\n",
      "memory usage: 66.5+ KB\n",
      "None\n",
      "  use_id catch_type                                               geom\n",
      "0   8416  HIGH_COED  POLYGON ((151.19849 -33.53990, 151.19945 -33.5...\n",
      "1   8161  HIGH_BOYS  POLYGON ((151.27152 -33.91402, 151.27152 -33.9...\n",
      "2   8539  HIGH_COED  POLYGON ((151.15292 -33.83939, 151.16144 -33.8...\n",
      "3   8400  HIGH_COED  POLYGON ((151.17794 -33.69820, 151.17859 -33.6...\n",
      "4   8555  HIGH_COED  POLYGON ((151.28072 -33.83287, 151.28095 -33.8...\n"
     ]
    },
    {
     "data": {
      "text/plain": [
       "False"
      ]
     },
     "execution_count": 60,
     "metadata": {},
     "output_type": "execute_result"
    }
   ],
   "source": [
    "catchments = pd.concat([catchments_future, catchments_primary, catchments_secondary], axis=0)\n",
    "data_summary(catchments)\n",
    "check_unique(catchments, key='use_id')"
   ]
  },
  {
   "cell_type": "code",
   "execution_count": 61,
   "id": "db481a28",
   "metadata": {},
   "outputs": [
    {
     "name": "stdout",
     "output_type": "stream",
     "text": [
      "<class 'geopandas.geodataframe.GeoDataFrame'>\n",
      "Int64Index: 2128 entries, 0 to 435\n",
      "Data columns (total 2 columns):\n",
      " #   Column      Non-Null Count  Dtype \n",
      "---  ------      --------------  ----- \n",
      " 0   catch_type  2128 non-null   object\n",
      " 1   geom        2128 non-null   object\n",
      "dtypes: object(2)\n",
      "memory usage: 49.9+ KB\n",
      "None\n",
      "  catch_type                                               geom\n",
      "0  HIGH_COED  MULTIPOLYGON (((151.19848917708944 -33.5398987...\n",
      "1  HIGH_BOYS  MULTIPOLYGON (((151.27151530428182 -33.9140183...\n",
      "2  HIGH_COED  MULTIPOLYGON (((151.15292370935092 -33.8393921...\n",
      "3  HIGH_COED  MULTIPOLYGON (((151.17793729938725 -33.6982001...\n",
      "4  HIGH_COED  MULTIPOLYGON (((151.28072275958445 -33.8328728...\n"
     ]
    }
   ],
   "source": [
    "catchments = catchments[['catch_type', 'geom']] #drop use_id as it's not unique\n",
    "catchments['geom'] = catchments['geom'].apply(lambda x: shapely_to_WKT(geom=x,srid=GDA94_SRID))  # convert shapely to WKT\n",
    "catchments.dropna(inplace=True)\n",
    "data_summary(catchments)"
   ]
  },
  {
   "cell_type": "code",
   "execution_count": 62,
   "id": "1d455b97",
   "metadata": {},
   "outputs": [
    {
     "name": "stdout",
     "output_type": "stream",
     "text": [
      "<class 'pandas.core.frame.DataFrame'>\n",
      "RangeIndex: 642 entries, 0 to 641\n",
      "Data columns (total 6 columns):\n",
      " #   Column         Non-Null Count  Dtype \n",
      "---  ------         --------------  ----- \n",
      " 0   sa2_code21     642 non-null    int64 \n",
      " 1   sa2_name       642 non-null    object\n",
      " 2   earners        642 non-null    object\n",
      " 3   median_age     642 non-null    object\n",
      " 4   median_income  642 non-null    object\n",
      " 5   mean_income    642 non-null    object\n",
      "dtypes: int64(1), object(5)\n",
      "memory usage: 30.2+ KB\n",
      "None\n",
      "   sa2_code21                         sa2_name earners median_age  \\\n",
      "0   101021007                        Braidwood    2467         51   \n",
      "1   101021008                          Karabar    5103         42   \n",
      "2   101021009                       Queanbeyan    7028         39   \n",
      "3   101021010                Queanbeyan - East    3398         39   \n",
      "4   101021012  Queanbeyan West - Jerrabomberra    8422         44   \n",
      "\n",
      "  median_income mean_income  \n",
      "0         46640       68904  \n",
      "1         65564       69672  \n",
      "2         63528       69174  \n",
      "3         66148       74162  \n",
      "4         78630       91981  \n"
     ]
    }
   ],
   "source": [
    "# income raw data\n",
    "income = pd.read_csv(\"Income.csv\")\n",
    "data_summary(income)"
   ]
  },
  {
   "cell_type": "code",
   "execution_count": 63,
   "id": "e132e41c",
   "metadata": {},
   "outputs": [],
   "source": [
    "income = income[[\"sa2_code21\", \"median_age\", \"median_income\", 'mean_income']] # drop unused columns\n",
    "income.rename(columns={\n",
    "    \"sa2_code21\": \"sa2_id\"\n",
    "}, inplace=True)\n",
    "income = income[income['sa2_id'].isin(sa2_greater_sydney['sa2_id'])] #filter down to the ”Greater Sydney” GCC\n",
    "income['median_age'] = pd.to_numeric(income['median_age'], errors='coerce').fillna(-1).astype('int64')\n",
    "income['median_income'] = pd.to_numeric(income['median_income'], errors='coerce').fillna(-1).astype('int64')\n",
    "income['mean_income'] = pd.to_numeric(income['mean_income'], errors='coerce').fillna(-1).astype('int64')\n",
    "income.dropna(inplace=True)"
   ]
  },
  {
   "cell_type": "code",
   "execution_count": 64,
   "id": "d50d74dc",
   "metadata": {},
   "outputs": [
    {
     "name": "stdout",
     "output_type": "stream",
     "text": [
      "<class 'pandas.core.frame.DataFrame'>\n",
      "RangeIndex: 373 entries, 0 to 372\n",
      "Data columns (total 21 columns):\n",
      " #   Column              Non-Null Count  Dtype \n",
      "---  ------              --------------  ----- \n",
      " 0   sa2_code            373 non-null    int64 \n",
      " 1   sa2_name            373 non-null    object\n",
      " 2   0-4_people          373 non-null    int64 \n",
      " 3   5-9_people          373 non-null    int64 \n",
      " 4   10-14_people        373 non-null    int64 \n",
      " 5   15-19_people        373 non-null    int64 \n",
      " 6   20-24_people        373 non-null    int64 \n",
      " 7   25-29_people        373 non-null    int64 \n",
      " 8   30-34_people        373 non-null    int64 \n",
      " 9   35-39_people        373 non-null    int64 \n",
      " 10  40-44_people        373 non-null    int64 \n",
      " 11  45-49_people        373 non-null    int64 \n",
      " 12  50-54_people        373 non-null    int64 \n",
      " 13  55-59_people        373 non-null    int64 \n",
      " 14  60-64_people        373 non-null    int64 \n",
      " 15  65-69_people        373 non-null    int64 \n",
      " 16  70-74_people        373 non-null    int64 \n",
      " 17  75-79_people        373 non-null    int64 \n",
      " 18  80-84_people        373 non-null    int64 \n",
      " 19  85-and-over_people  373 non-null    int64 \n",
      " 20  total_people        373 non-null    int64 \n",
      "dtypes: int64(20), object(1)\n",
      "memory usage: 61.3+ KB\n",
      "None\n",
      "    sa2_code                     sa2_name  0-4_people  5-9_people  \\\n",
      "0  102011028     Avoca Beach - Copacabana         424         522   \n",
      "1  102011029  Box Head - MacMasters Beach         511         666   \n",
      "2  102011030              Calga - Kulnura         200         225   \n",
      "3  102011031          Erina - Green Point         683         804   \n",
      "4  102011032        Gosford - Springfield        1164        1044   \n",
      "\n",
      "   10-14_people  15-19_people  20-24_people  25-29_people  30-34_people  \\\n",
      "0           623           552           386           222           306   \n",
      "1           702           592           461           347           420   \n",
      "2           258           278           274           227           214   \n",
      "3           880           838           661           502           587   \n",
      "4          1084          1072          1499          1864          1750   \n",
      "\n",
      "   35-39_people  ...  45-49_people  50-54_people  55-59_people  60-64_people  \\\n",
      "0           416  ...           572           602           570           520   \n",
      "1           535  ...           749           749           794           895   \n",
      "2           286  ...           325           436           422           397   \n",
      "3           757  ...           859           882           901           930   \n",
      "4          1520  ...          1330          1241          1377          1285   \n",
      "\n",
      "   65-69_people  70-74_people  75-79_people  80-84_people  85-and-over_people  \\\n",
      "0           464           369           226           142                  70   \n",
      "1           863           925           603           331                 264   \n",
      "2           327           264           190           100                  75   \n",
      "3           917          1065           976           773                1028   \n",
      "4          1166           949           664           476                 537   \n",
      "\n",
      "   total_people  \n",
      "0          7530  \n",
      "1         11052  \n",
      "2          4748  \n",
      "3         14803  \n",
      "4         21346  \n",
      "\n",
      "[5 rows x 21 columns]\n"
     ]
    }
   ],
   "source": [
    "# population raw data\n",
    "population = pd.read_csv(\"Population.csv\")\n",
    "data_summary(population)"
   ]
  },
  {
   "cell_type": "code",
   "execution_count": 65,
   "id": "18bb3872",
   "metadata": {},
   "outputs": [
    {
     "name": "stdout",
     "output_type": "stream",
     "text": [
      "<class 'pandas.core.frame.DataFrame'>\n",
      "Int64Index: 373 entries, 0 to 372\n",
      "Data columns (total 3 columns):\n",
      " #   Column        Non-Null Count  Dtype\n",
      "---  ------        --------------  -----\n",
      " 0   sa2_id        373 non-null    int64\n",
      " 1   young_people  373 non-null    int64\n",
      " 2   total_people  373 non-null    int64\n",
      "dtypes: int64(3)\n",
      "memory usage: 11.7 KB\n",
      "None\n",
      "      sa2_id  young_people  total_people\n",
      "0  102011028          2121          7530\n",
      "1  102011029          2471         11052\n",
      "2  102011030           961          4748\n",
      "3  102011031          3205         14803\n",
      "4  102011032          4364         21346\n"
     ]
    }
   ],
   "source": [
    "population['young_people'] = population[['0-4_people','5-9_people', '10-14_people','15-19_people']].sum(axis=1)\n",
    "population = population[[\"sa2_code\", \"young_people\", \"total_people\"]] # drop unused columns\n",
    "population.rename(columns={\n",
    "    \"sa2_code\": \"sa2_id\"\n",
    "}, inplace=True)\n",
    "population = population[population['sa2_id'].isin(sa2_greater_sydney['sa2_id'])] #filter down to the ”Greater Sydney” GCC\n",
    "population.dropna(inplace=True)\n",
    "data_summary(population)"
   ]
  },
  {
   "cell_type": "code",
   "execution_count": 66,
   "id": "3a79d7f9",
   "metadata": {},
   "outputs": [
    {
     "name": "stdout",
     "output_type": "stream",
     "text": [
      "<class 'pandas.core.frame.DataFrame'>\n",
      "RangeIndex: 114718 entries, 0 to 114717\n",
      "Data columns (total 9 columns):\n",
      " #   Column               Non-Null Count   Dtype  \n",
      "---  ------               --------------   -----  \n",
      " 0   stop_id              114718 non-null  object \n",
      " 1   stop_code            60719 non-null   float64\n",
      " 2   stop_name            114718 non-null  object \n",
      " 3   stop_lat             114718 non-null  float64\n",
      " 4   stop_lon             114718 non-null  float64\n",
      " 5   location_type        53991 non-null   float64\n",
      " 6   parent_station       60727 non-null   object \n",
      " 7   wheelchair_boarding  114718 non-null  int64  \n",
      " 8   platform_code        871 non-null     object \n",
      "dtypes: float64(4), int64(1), object(4)\n",
      "memory usage: 7.9+ MB\n",
      "None\n",
      "  stop_id  stop_code                             stop_name   stop_lat  \\\n",
      "0  200039   200039.0     Central Station, Eddy Av, Stand A -33.882206   \n",
      "1  200054   200054.0     Central Station, Eddy Av, Stand D -33.882042   \n",
      "2  200060        NaN                       Central Station -33.884084   \n",
      "3  201510        NaN                       Redfern Station -33.891690   \n",
      "4  201646   201646.0  Redfern Station, Gibbons St, Stand B -33.893329   \n",
      "\n",
      "     stop_lon  location_type parent_station  wheelchair_boarding platform_code  \n",
      "0  151.206665            NaN         200060                    0           NaN  \n",
      "1  151.206991            NaN         200060                    0           NaN  \n",
      "2  151.206292            1.0            NaN                    0           NaN  \n",
      "3  151.198866            1.0            NaN                    0           NaN  \n",
      "4  151.198882            NaN         201510                    0           NaN  \n"
     ]
    }
   ],
   "source": [
    "# stops raw data\n",
    "stops = pd.read_csv(\"Stops.txt\")\n",
    "data_summary(stops)"
   ]
  },
  {
   "cell_type": "code",
   "execution_count": 67,
   "id": "c17a8cda",
   "metadata": {},
   "outputs": [
    {
     "name": "stdout",
     "output_type": "stream",
     "text": [
      "<class 'pandas.core.frame.DataFrame'>\n",
      "RangeIndex: 114718 entries, 0 to 114717\n",
      "Data columns (total 2 columns):\n",
      " #   Column   Non-Null Count   Dtype \n",
      "---  ------   --------------   ----- \n",
      " 0   stop_id  114718 non-null  object\n",
      " 1   geom     114718 non-null  object\n",
      "dtypes: object(2)\n",
      "memory usage: 1.8+ MB\n",
      "None\n",
      "  stop_id                                        geom\n",
      "0  200039   POINT (151.20666465471 -33.8822064874687)\n",
      "1  200054   POINT (151.20699145565 -33.8820421431408)\n",
      "2  200060  POINT (151.206292455081 -33.8840842535493)\n",
      "3  201510  POINT (151.198866071817 -33.8916900512711)\n",
      "4  201646  POINT (151.198881722942 -33.8933293130144)\n"
     ]
    },
    {
     "data": {
      "text/plain": [
       "True"
      ]
     },
     "execution_count": 67,
     "metadata": {},
     "output_type": "execute_result"
    }
   ],
   "source": [
    "stops['geom'] = gpd.points_from_xy(stops.stop_lon, stops.stop_lat) # convert to shapely object\n",
    "stops['geom'] = stops['geom'].apply(lambda x: shapely_to_WKT(geom=x, srid=4326)) # convert shapely to WKT\n",
    "stops = stops[[\"stop_id\", \"geom\"]] # drop unused columns\n",
    "stops.dropna(inplace=True)\n",
    "data_summary(stops)\n",
    "check_unique(stops, 'stop_id')"
   ]
  },
  {
   "cell_type": "code",
   "execution_count": 68,
   "id": "051055db",
   "metadata": {},
   "outputs": [
    {
     "name": "stdout",
     "output_type": "stream",
     "text": [
      "Connected successfully.\n"
     ]
    }
   ],
   "source": [
    "# connecting postgresql\n",
    "def pgconnect(db_schema=\"public\"):\n",
    "    host = 'localhost'\n",
    "    db_user = 'postgres'\n",
    "    db_pw = \"qwertyuiop\"\n",
    "    default_db = \"DATA2001\"\n",
    "    try:\n",
    "        db = create_engine('postgresql+psycopg2://'+db_user+':'+db_pw+'@'+host+'/'+default_db, echo=False)\n",
    "        conn = db.connect()\n",
    "        print('Connected successfully.')\n",
    "    except Exception as e:\n",
    "        print(\"Unable to connect to the database.\")\n",
    "        print(e)\n",
    "        db, conn = None, None\n",
    "    return db,conn\n",
    "db, conn = pgconnect()"
   ]
  },
  {
   "cell_type": "code",
   "execution_count": 69,
   "id": "0f8405c0",
   "metadata": {},
   "outputs": [
    {
     "name": "stdout",
     "output_type": "stream",
     "text": [
      "DROP TABLE IF EXISTS SA2 CASCADE; executed\n",
      "CREATE TABLE IF NOT EXISTS SA2 (\n",
      "        sa2_id INT PRIMARY KEY,\n",
      "        sa2_name VARCHAR(255),\n",
      "        sa4_id INT,\n",
      "        sa4_name VARCHAR(255),\n",
      "        sa2_area_sqkm NUMERIC(10, 4),\n",
      "        geom GEOMETRY(MULTIPOLYGON,4283)\n",
      "    );DROP TABLE IF EXISTS businesses CASCADE; executed\n",
      "CREATE TABLE IF NOT EXISTS businesses (\n",
      "        business_id SERIAL PRIMARY KEY,\n",
      "        industry_name VARCHAR(255),\n",
      "        sa2_id INT REFERENCES SA2(sa2_id),\n",
      "        total_businesses INT\n",
      "    ); executed\n",
      "DROP TABLE IF EXISTS catchments CASCADE; executed\n",
      "CREATE TABLE IF NOT EXISTS catchments (\n",
      "        catchment_id SERIAL PRIMARY KEY,\n",
      "        catch_type VARCHAR(32),\n",
      "        geom GEOMETRY(MULTIPOLYGON,4283)  \n",
      "    );DROP TABLE IF EXISTS income CASCADE; executed\n",
      "CREATE TABLE IF NOT EXISTS income (\n",
      "        income_id SERIAL PRIMARY KEY,\n",
      "        sa2_id INT REFERENCES SA2(sa2_id),    \n",
      "        median_age INT,          \n",
      "        median_income INT,   \n",
      "        mean_income INT      \n",
      "    ); executed\n",
      "DROP TABLE IF EXISTS population CASCADE; executed\n",
      "CREATE TABLE IF NOT EXISTS population (\n",
      "        population_id SERIAL PRIMARY KEY,\n",
      "        sa2_id INT REFERENCES SA2(sa2_id),\n",
      "        young_people INT,\n",
      "        total_people INT\n",
      "    ); executed\n",
      "DROP TABLE IF EXISTS stops CASCADE; executed\n",
      "CREATE TABLE IF NOT EXISTS stops (\n",
      "        stop_id VARCHAR(32) PRIMARY KEY,\n",
      "        geom GEOMETRY(POINT,4326)\n",
      "    ); executed\n"
     ]
    }
   ],
   "source": [
    "create_tables = [\n",
    "    \"\"\"DROP TABLE IF EXISTS SA2 CASCADE;\"\"\",\n",
    "    \"\"\"CREATE TABLE IF NOT EXISTS SA2 (\n",
    "        sa2_id INT PRIMARY KEY,\n",
    "        sa2_name VARCHAR(255),\n",
    "        sa4_id INT,\n",
    "        sa4_name VARCHAR(255),\n",
    "        sa2_area_sqkm NUMERIC(10, 4),\n",
    "        geom GEOMETRY(MULTIPOLYGON,4283)\n",
    "    );\"\"\"\n",
    "\n",
    "    \"\"\"DROP TABLE IF EXISTS businesses CASCADE;\"\"\",\n",
    "    \"\"\"CREATE TABLE IF NOT EXISTS businesses (\n",
    "        business_id SERIAL PRIMARY KEY,\n",
    "        industry_name VARCHAR(255),\n",
    "        sa2_id INT REFERENCES SA2(sa2_id),\n",
    "        total_businesses INT\n",
    "    );\"\"\",\n",
    "\n",
    "    \"\"\"DROP TABLE IF EXISTS catchments CASCADE;\"\"\",\n",
    "    \"\"\"CREATE TABLE IF NOT EXISTS catchments (\n",
    "        catchment_id SERIAL PRIMARY KEY,\n",
    "        catch_type VARCHAR(32),\n",
    "        geom GEOMETRY(MULTIPOLYGON,4283)  \n",
    "    );\"\"\"    \n",
    "\n",
    "    \"\"\"DROP TABLE IF EXISTS income CASCADE;\"\"\",\n",
    "    \"\"\"CREATE TABLE IF NOT EXISTS income (\n",
    "        income_id SERIAL PRIMARY KEY,\n",
    "        sa2_id INT REFERENCES SA2(sa2_id),    \n",
    "        median_age INT,          \n",
    "        median_income INT,   \n",
    "        mean_income INT      \n",
    "    );\"\"\",    \n",
    "\n",
    "    \"\"\"DROP TABLE IF EXISTS population CASCADE;\"\"\",\n",
    "    \"\"\"CREATE TABLE IF NOT EXISTS population (\n",
    "        population_id SERIAL PRIMARY KEY,\n",
    "        sa2_id INT REFERENCES SA2(sa2_id),\n",
    "        young_people INT,\n",
    "        total_people INT\n",
    "    );\"\"\",    \n",
    "\n",
    "    \"\"\"DROP TABLE IF EXISTS stops CASCADE;\"\"\",\n",
    "    \"\"\"CREATE TABLE IF NOT EXISTS stops (\n",
    "        stop_id VARCHAR(32) PRIMARY KEY,\n",
    "        geom GEOMETRY(POINT,4326)\n",
    "    );\"\"\",\n",
    "]\n",
    "for cmd in create_tables:\n",
    "    with conn.begin():\n",
    "        try:\n",
    "            conn.execute(text(cmd))\n",
    "            print(cmd, \"executed\")\n",
    "        except Exception as e:\n",
    "            conn.rollback()\n",
    "            print(e)\n",
    "            break"
   ]
  },
  {
   "cell_type": "code",
   "execution_count": 70,
   "id": "e3a53c65",
   "metadata": {},
   "outputs": [
    {
     "data": {
      "text/plain": [
       "718"
      ]
     },
     "execution_count": 70,
     "metadata": {},
     "output_type": "execute_result"
    }
   ],
   "source": [
    "# insert data to table\n",
    "sa2_greater_sydney.to_sql('sa2', conn, if_exists='append', index=False, dtype={'geom': Geometry('MULTIPOLYGON', GDA94_SRID)})\n",
    "businesses.to_sql('businesses', conn, if_exists='append', index=False )\n",
    "catchments.to_sql('catchments', conn, if_exists='append', index=False, dtype={'geom': Geometry('MULTIPOLYGON', GDA94_SRID)})\n",
    "income.to_sql('income', conn, if_exists='append', index=False)\n",
    "population.to_sql('population', conn, if_exists='append', index=False)\n",
    "stops.to_sql('stops', conn, if_exists='append', index=False, dtype={'geom': Geometry('POINT', WGS84_SRID)})"
   ]
  },
  {
   "cell_type": "markdown",
   "id": "0ef69b8a",
   "metadata": {},
   "source": [
    "# Task 2 Utilise the NSW Points of Interest API to extract information relevant to each SA2 region and form our additional dataset"
   ]
  },
  {
   "cell_type": "code",
   "execution_count": 71,
   "id": "636ada86",
   "metadata": {},
   "outputs": [],
   "source": [
    "# a function that returns all points of interests from the API within a specified bounding box of coordinates\n",
    "def POIinBbox(bbox):\n",
    "    baseURL = 'https://maps.six.nsw.gov.au/arcgis/rest/services/public/NSW_POI/MapServer/0/query'\n",
    "    x_min, y_min, x_max, y_max = bbox\n",
    "    params = {\n",
    "        'geometry': f'\"xmin\":{x_min},\"ymin\":{y_min},\"xmax\":{x_max},\"ymax:{y_max}\"',\n",
    "        'outFields': '*',\n",
    "        'returnGeometry': 'true',\n",
    "        'f': 'json'\n",
    "    }\n",
    "    response = requests.get(baseURL, params)\n",
    "    return json.loads(response.text)['features']"
   ]
  },
  {
   "cell_type": "code",
   "execution_count": 72,
   "id": "9c60e923",
   "metadata": {},
   "outputs": [],
   "source": [
    "# get all SA2 in selected SA4\n",
    "target_sa4 = \"Sydney - North Sydney and Hornsby\"\n",
    "query = text(\"\"\"\n",
    "    SELECT sa2_id, geom, ST_XMin(geom) as min_x, ST_YMin(geom) as min_y, ST_XMax(geom) as max_x, ST_YMax(geom) as max_y\n",
    "    FROM SA2\n",
    "    WHERE sa4_name = :sa4_name\n",
    "\"\"\")\n",
    "try:\n",
    "    r = conn.execute(query, {'sa4_name':target_sa4})\n",
    "    results = r.fetchall()\n",
    "except Exception as e:\n",
    "    print(e)"
   ]
  },
  {
   "cell_type": "code",
   "execution_count": 73,
   "id": "0e9c21b4",
   "metadata": {},
   "outputs": [
    {
     "name": "stderr",
     "output_type": "stream",
     "text": [
      "100%|██████████| 26/26 [00:32<00:00,  1.27s/it]\n"
     ]
    }
   ],
   "source": [
    "# for each sa2, use the API to get POI and create a new table to store the data\n",
    "\n",
    "poi_data = {\n",
    "    'topoid': [], #primary key\n",
    "    'sa2_id': [], #foreign key\n",
    "    'poigroup': []\n",
    "}\n",
    "\n",
    "for row in tqdm.tqdm(results):\n",
    "    sa2_id = row[0]\n",
    "    geom = load_wkb(row[1], hex=True)\n",
    "    pois = POIinBbox(row[2:])\n",
    "    for poi in pois:\n",
    "        poi_geom = Point(poi['geometry']['x'], poi['geometry']['y'])\n",
    "        if geom.contains(poi_geom): #check if poi is inside the SA2(we use bounding box to get the poi)\n",
    "            poi_data['topoid'].append(poi['attributes']['topoid'])\n",
    "            poi_data['sa2_id'].append(sa2_id)\n",
    "            poi_data['poigroup'].append(poi['attributes']['poigroup'])\n",
    "        else:\n",
    "            continue\n",
    "    time.sleep(1)"
   ]
  },
  {
   "cell_type": "code",
   "execution_count": 74,
   "id": "48c57faf",
   "metadata": {},
   "outputs": [
    {
     "name": "stdout",
     "output_type": "stream",
     "text": [
      "<class 'pandas.core.frame.DataFrame'>\n",
      "RangeIndex: 2367 entries, 0 to 2366\n",
      "Data columns (total 3 columns):\n",
      " #   Column     Non-Null Count  Dtype\n",
      "---  ------     --------------  -----\n",
      " 0   poi_id     2367 non-null   int64\n",
      " 1   sa2_id     2367 non-null   int64\n",
      " 2   poi_group  2367 non-null   int64\n",
      "dtypes: int64(3)\n",
      "memory usage: 55.6 KB\n",
      "None\n",
      "      poi_id     sa2_id  poi_group\n",
      "0  500174886  121011399          1\n",
      "1  500174997  121011399          3\n",
      "2  500186660  121011399          3\n",
      "3  500186948  121011399          3\n",
      "4  500186982  121011399          1\n"
     ]
    },
    {
     "data": {
      "text/plain": [
       "True"
      ]
     },
     "execution_count": 74,
     "metadata": {},
     "output_type": "execute_result"
    }
   ],
   "source": [
    "poi_df = pd.DataFrame(poi_data)\n",
    "poi_df.rename(columns={\n",
    "    \"topoid\": \"poi_id\", # primary key\n",
    "    \"poigroup\": \"poi_group\",\n",
    "}, inplace= True)\n",
    "data_summary(poi_df)\n",
    "check_unique(poi_df, 'poi_id')"
   ]
  },
  {
   "cell_type": "code",
   "execution_count": 76,
   "id": "e7d425a4",
   "metadata": {},
   "outputs": [
    {
     "name": "stdout",
     "output_type": "stream",
     "text": [
      "DROP TABLE IF EXISTS POI CASCADE; executed\n",
      "CREATE TABLE IF NOT EXISTS POI (\n",
      "        poi_id INT PRIMARY KEY,\n",
      "        poi_group INT,\n",
      "        sa2_id INT REFERENCES SA2(sa2_id)\n",
      "    ); executed\n"
     ]
    }
   ],
   "source": [
    "# create a new tabel to store poi data\n",
    "create_tables = [\n",
    "    \"\"\"DROP TABLE IF EXISTS POI CASCADE;\"\"\",\n",
    "    \"\"\"CREATE TABLE IF NOT EXISTS POI (\n",
    "        poi_id INT PRIMARY KEY,\n",
    "        poi_group INT,\n",
    "        sa2_id INT REFERENCES SA2(sa2_id)\n",
    "    );\"\"\"\n",
    "]\n",
    "for cmd in create_tables:\n",
    "    try:\n",
    "        conn.execute(text(cmd))\n",
    "        print(cmd, \"executed\")\n",
    "    except Exception as e:\n",
    "        conn.rollback()\n",
    "        print(e)\n",
    "        break\n"
   ]
  },
  {
   "cell_type": "code",
   "execution_count": null,
   "id": "098dcfc3",
   "metadata": {},
   "outputs": [
    {
     "data": {
      "text/plain": [
       "367"
      ]
     },
     "execution_count": 65,
     "metadata": {},
     "output_type": "execute_result"
    }
   ],
   "source": [
    "poi_df.to_sql('poi', conn, if_exists='append', index=False)"
   ]
  }
 ],
 "metadata": {
  "kernelspec": {
   "display_name": "base",
   "language": "python",
   "name": "python3"
  },
  "language_info": {
   "codemirror_mode": {
    "name": "ipython",
    "version": 3
   },
   "file_extension": ".py",
   "mimetype": "text/x-python",
   "name": "python",
   "nbconvert_exporter": "python",
   "pygments_lexer": "ipython3",
   "version": "3.11.5"
  }
 },
 "nbformat": 4,
 "nbformat_minor": 5
}
