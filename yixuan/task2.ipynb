{
 "cells": [
  {
   "cell_type": "code",
   "execution_count": 2,
   "id": "09ae1dce",
   "metadata": {},
   "outputs": [],
   "source": [
    "# import some pkg\n",
    "import pandas as pd\n",
    "import numpy as np\n",
    "import geopandas as gpd\n",
    "from shapely.wkt import loads\n",
    "from shapely.geometry import Point, Polygon, MultiPolygon\n",
    "from geoalchemy2 import Geometry, WKTElement\n",
    "from sqlalchemy import create_engine, text\n",
    "import psycopg2\n",
    "import psycopg2.extras\n",
    "import json\n",
    "import folium\n",
    "from branca.colormap import linear\n",
    "import requests\n",
    "import time\n",
    "import tqdm\n",
    "from shapely.wkb import loads as load_wkb\n"
   ]
  },
  {
   "cell_type": "code",
   "execution_count": 3,
   "id": "a14e8bd7",
   "metadata": {},
   "outputs": [],
   "source": [
    "# some SRID\n",
    "GAD2020_SRID = 7844\n",
    "GDA94_SRID = 4283\n",
    "WGS84_SRID = 4326"
   ]
  },
  {
   "cell_type": "code",
   "execution_count": 4,
   "id": "5c742fd5",
   "metadata": {},
   "outputs": [],
   "source": [
    "# utils\n",
    "\n",
    "def data_summary(df):\n",
    "    print(df.info())\n",
    "    print(df.head())\n",
    "\n",
    "def shapely_to_WKT(geom, srid):\n",
    "    if geom.geom_type == 'Polygon':\n",
    "        geom = MultiPolygon([geom])\n",
    "    return WKTElement(geom.wkt, srid)\n",
    "\n",
    "def check_unique(df, key):\n",
    "    return df[key].nunique() == len(df[key])"
   ]
  },
  {
   "cell_type": "markdown",
   "id": "af315121",
   "metadata": {},
   "source": [
    "# Task 1 Import all datasets, clean if needed"
   ]
  },
  {
   "cell_type": "code",
   "execution_count": 5,
   "id": "15bf17b8",
   "metadata": {},
   "outputs": [
    {
     "name": "stdout",
     "output_type": "stream",
     "text": [
      "<class 'geopandas.geodataframe.GeoDataFrame'>\n",
      "RangeIndex: 2473 entries, 0 to 2472\n",
      "Data columns (total 17 columns):\n",
      " #   Column      Non-Null Count  Dtype   \n",
      "---  ------      --------------  -----   \n",
      " 0   SA2_CODE21  2473 non-null   object  \n",
      " 1   SA2_NAME21  2473 non-null   object  \n",
      " 2   CHG_FLAG21  2473 non-null   object  \n",
      " 3   CHG_LBL21   2473 non-null   object  \n",
      " 4   SA3_CODE21  2473 non-null   object  \n",
      " 5   SA3_NAME21  2473 non-null   object  \n",
      " 6   SA4_CODE21  2473 non-null   object  \n",
      " 7   SA4_NAME21  2473 non-null   object  \n",
      " 8   GCC_CODE21  2473 non-null   object  \n",
      " 9   GCC_NAME21  2473 non-null   object  \n",
      " 10  STE_CODE21  2473 non-null   object  \n",
      " 11  STE_NAME21  2473 non-null   object  \n",
      " 12  AUS_CODE21  2473 non-null   object  \n",
      " 13  AUS_NAME21  2473 non-null   object  \n",
      " 14  AREASQKM21  2454 non-null   float64 \n",
      " 15  LOCI_URI21  2473 non-null   object  \n",
      " 16  geometry    2454 non-null   geometry\n",
      "dtypes: float64(1), geometry(1), object(15)\n",
      "memory usage: 328.6+ KB\n",
      "None\n",
      "  SA2_CODE21                       SA2_NAME21 CHG_FLAG21  CHG_LBL21  \\\n",
      "0  101021007                        Braidwood          0  No change   \n",
      "1  101021008                          Karabar          0  No change   \n",
      "2  101021009                       Queanbeyan          0  No change   \n",
      "3  101021010                Queanbeyan - East          0  No change   \n",
      "4  101021012  Queanbeyan West - Jerrabomberra          0  No change   \n",
      "\n",
      "  SA3_CODE21  SA3_NAME21 SA4_CODE21      SA4_NAME21 GCC_CODE21   GCC_NAME21  \\\n",
      "0      10102  Queanbeyan        101  Capital Region      1RNSW  Rest of NSW   \n",
      "1      10102  Queanbeyan        101  Capital Region      1RNSW  Rest of NSW   \n",
      "2      10102  Queanbeyan        101  Capital Region      1RNSW  Rest of NSW   \n",
      "3      10102  Queanbeyan        101  Capital Region      1RNSW  Rest of NSW   \n",
      "4      10102  Queanbeyan        101  Capital Region      1RNSW  Rest of NSW   \n",
      "\n",
      "  STE_CODE21       STE_NAME21 AUS_CODE21 AUS_NAME21  AREASQKM21  \\\n",
      "0          1  New South Wales        AUS  Australia   3418.3525   \n",
      "1          1  New South Wales        AUS  Australia      6.9825   \n",
      "2          1  New South Wales        AUS  Australia      4.7620   \n",
      "3          1  New South Wales        AUS  Australia     13.0032   \n",
      "4          1  New South Wales        AUS  Australia     13.6748   \n",
      "\n",
      "                                          LOCI_URI21  \\\n",
      "0  http://linked.data.gov.au/dataset/asgsed3/SA2/...   \n",
      "1  http://linked.data.gov.au/dataset/asgsed3/SA2/...   \n",
      "2  http://linked.data.gov.au/dataset/asgsed3/SA2/...   \n",
      "3  http://linked.data.gov.au/dataset/asgsed3/SA2/...   \n",
      "4  http://linked.data.gov.au/dataset/asgsed3/SA2/...   \n",
      "\n",
      "                                            geometry  \n",
      "0  POLYGON ((149.58424 -35.44426, 149.58444 -35.4...  \n",
      "1  POLYGON ((149.21899 -35.36738, 149.21800 -35.3...  \n",
      "2  POLYGON ((149.21326 -35.34325, 149.21619 -35.3...  \n",
      "3  POLYGON ((149.24034 -35.34781, 149.24024 -35.3...  \n",
      "4  POLYGON ((149.19572 -35.36126, 149.19970 -35.3...  \n"
     ]
    }
   ],
   "source": [
    "#SA2 raw data\n",
    "sa2_data = gpd.read_file(\"SA2_2021_AUST_GDA2020.shp\")\n",
    "data_summary(sa2_data)"
   ]
  },
  {
   "cell_type": "code",
   "execution_count": 6,
   "id": "15b6553a",
   "metadata": {},
   "outputs": [
    {
     "name": "stdout",
     "output_type": "stream",
     "text": [
      "EPSG:7844\n"
     ]
    }
   ],
   "source": [
    "print(sa2_data.crs)"
   ]
  },
  {
   "cell_type": "code",
   "execution_count": 7,
   "id": "439a7ee8",
   "metadata": {},
   "outputs": [
    {
     "name": "stdout",
     "output_type": "stream",
     "text": [
      "<class 'geopandas.geodataframe.GeoDataFrame'>\n",
      "Int64Index: 373 entries, 28 to 641\n",
      "Data columns (total 6 columns):\n",
      " #   Column         Non-Null Count  Dtype  \n",
      "---  ------         --------------  -----  \n",
      " 0   sa2_id         373 non-null    int64  \n",
      " 1   sa2_name       373 non-null    object \n",
      " 2   sa4_id         373 non-null    object \n",
      " 3   sa4_name       373 non-null    object \n",
      " 4   sa2_area_sqkm  373 non-null    float64\n",
      " 5   geom           373 non-null    object \n",
      "dtypes: float64(1), int64(1), object(4)\n",
      "memory usage: 20.4+ KB\n",
      "None\n",
      "       sa2_id                     sa2_name sa4_id       sa4_name  \\\n",
      "28  102011028     Avoca Beach - Copacabana    102  Central Coast   \n",
      "29  102011029  Box Head - MacMasters Beach    102  Central Coast   \n",
      "30  102011030              Calga - Kulnura    102  Central Coast   \n",
      "31  102011031          Erina - Green Point    102  Central Coast   \n",
      "32  102011032        Gosford - Springfield    102  Central Coast   \n",
      "\n",
      "    sa2_area_sqkm                                               geom  \n",
      "28         6.4376  MULTIPOLYGON (((151.413733024921 -33.465580583...  \n",
      "29        32.0802  MULTIPOLYGON (((151.37484081570685 -33.5005199...  \n",
      "30       767.9512  MULTIPOLYGON (((151.20449037540152 -33.5328022...  \n",
      "31        33.7934  MULTIPOLYGON (((151.37193611462118 -33.4369790...  \n",
      "32        16.9123  MULTIPOLYGON (((151.32348639265098 -33.4277852...  \n"
     ]
    }
   ],
   "source": [
    "#SA2 data\n",
    "sa2_data = gpd.read_file(\"SA2_2021_AUST_GDA2020.shp\")\n",
    "# cleanning SA2 dropping unnesserary columns\n",
    "sa2_greater_sydney = sa2_data[sa2_data[\"GCC_NAME21\"] == \"Greater Sydney\"] # filtering\n",
    "sa2_greater_sydney = sa2_greater_sydney[['SA2_CODE21', 'SA2_NAME21', 'SA4_CODE21', 'SA4_NAME21', 'AREASQKM21', 'geometry']] # keeping nessary columns\n",
    "# rename columns\n",
    "sa2_greater_sydney.rename(columns={\n",
    "    \"SA2_CODE21\": \"sa2_id\", # primary key\n",
    "    \"SA2_NAME21\": \"sa2_name\",\n",
    "    \"SA4_CODE21\": \"sa4_id\",\n",
    "    \"SA4_NAME21\": \"sa4_name\",\n",
    "    \"AREASQKM21\": \"sa2_area_sqkm\",\n",
    "    'geometry': \"geom\"\n",
    "}, inplace= True)\n",
    "sa2_greater_sydney[\"sa2_id\"] = sa2_greater_sydney[\"sa2_id\"].astype('int64')\n",
    "sa2_greater_sydney['geom'] = sa2_greater_sydney['geom'].apply(lambda x: shapely_to_WKT(geom=x,srid=GDA94_SRID))  # convert shapely to WKT\n",
    "sa2_greater_sydney.dropna(inplace=True) # drop NA values\n",
    "data_summary(sa2_greater_sydney)"
   ]
  },
  {
   "cell_type": "code",
   "execution_count": 10,
   "id": "051055db",
   "metadata": {},
   "outputs": [
    {
     "name": "stdout",
     "output_type": "stream",
     "text": [
      "Connected successfully.\n"
     ]
    }
   ],
   "source": [
    "# connecting postgresql\n",
    "def pgconnect(db_schema=\"public\"):\n",
    "    host = 'localhost'\n",
    "    db_user = 'postgres'\n",
    "    db_pw = \"qwertyuiop\"\n",
    "    default_db = \"DATA2001\"\n",
    "    try:\n",
    "        db = create_engine('postgresql+psycopg2://'+db_user+':'+db_pw+'@'+host+'/'+default_db, echo=False)\n",
    "        conn = db.connect()\n",
    "        print('Connected successfully.')\n",
    "    except Exception as e:\n",
    "        print(\"Unable to connect to the database.\")\n",
    "        print(e)\n",
    "        db, conn = None, None\n",
    "    return db,conn\n",
    "db, conn = pgconnect()"
   ]
  },
  {
   "cell_type": "code",
   "execution_count": 12,
   "id": "0f8405c0",
   "metadata": {},
   "outputs": [
    {
     "name": "stdout",
     "output_type": "stream",
     "text": [
      "DROP TABLE IF EXISTS SA2 CASCADE; executed\n",
      "CREATE TABLE IF NOT EXISTS SA2 (\n",
      "        sa2_id INT PRIMARY KEY,\n",
      "        sa2_name VARCHAR(255),\n",
      "        sa4_id INT,\n",
      "        sa4_name VARCHAR(255),\n",
      "        sa2_area_sqkm NUMERIC(10, 4),\n",
      "        geom GEOMETRY(MULTIPOLYGON,4283)\n",
      "    ); executed\n"
     ]
    }
   ],
   "source": [
    "create_tables = [\n",
    "    \"\"\"DROP TABLE IF EXISTS SA2 CASCADE;\"\"\",\n",
    "    \"\"\"CREATE TABLE IF NOT EXISTS SA2 (\n",
    "        sa2_id INT PRIMARY KEY,\n",
    "        sa2_name VARCHAR(255),\n",
    "        sa4_id INT,\n",
    "        sa4_name VARCHAR(255),\n",
    "        sa2_area_sqkm NUMERIC(10, 4),\n",
    "        geom GEOMETRY(MULTIPOLYGON,4283)\n",
    "    );\"\"\"\n",
    "]\n",
    "for cmd in create_tables:\n",
    "    with conn.begin():\n",
    "        try:\n",
    "            conn.execute(text(cmd))\n",
    "            print(cmd, \"executed\")\n",
    "        except Exception as e:\n",
    "            conn.rollback()\n",
    "            print(e)\n",
    "            break"
   ]
  },
  {
   "cell_type": "code",
   "execution_count": 13,
   "id": "e3a53c65",
   "metadata": {},
   "outputs": [
    {
     "data": {
      "text/plain": [
       "373"
      ]
     },
     "execution_count": 13,
     "metadata": {},
     "output_type": "execute_result"
    }
   ],
   "source": [
    "# insert sa2 data to table\n",
    "sa2_greater_sydney.to_sql('sa2', conn, if_exists='append', index=False, dtype={'geom': Geometry('MULTIPOLYGON', GDA94_SRID)})"
   ]
  },
  {
   "cell_type": "markdown",
   "id": "0ef69b8a",
   "metadata": {},
   "source": [
    "# Task 2 Utilise the NSW Points of Interest API to extract information relevant to each SA2 region and form our additional dataset"
   ]
  },
  {
   "cell_type": "code",
   "execution_count": 14,
   "id": "636ada86",
   "metadata": {},
   "outputs": [],
   "source": [
    "# a function that returns all points of interests from the API within a specified bounding box of coordinates\n",
    "def POIinBbox(bbox):\n",
    "    baseURL = 'https://maps.six.nsw.gov.au/arcgis/rest/services/public/NSW_POI/MapServer/0/query'\n",
    "    x_min, y_min, x_max, y_max = bbox\n",
    "    params = {\n",
    "        'geometry': f'\"xmin\":{x_min},\"ymin\":{y_min},\"xmax\":{x_max},\"ymax:{y_max}\"',\n",
    "        'outFields': '*',\n",
    "        'returnGeometry': 'true',\n",
    "        'f': 'json'\n",
    "    }\n",
    "    response = requests.get(baseURL, params)\n",
    "    return json.loads(response.text)['features']"
   ]
  },
  {
   "cell_type": "code",
   "execution_count": 15,
   "id": "9c60e923",
   "metadata": {},
   "outputs": [],
   "source": [
    "# get all SA2 in selected SA4\n",
    "target_sa4 = \"Sydney - North Sydney and Hornsby\"\n",
    "query = text(\"\"\"\n",
    "    SELECT sa2_id, geom, ST_XMin(geom) as min_x, ST_YMin(geom) as min_y, ST_XMax(geom) as max_x, ST_YMax(geom) as max_y\n",
    "    FROM SA2\n",
    "    WHERE sa4_name = :sa4_name\n",
    "\"\"\")\n",
    "try:\n",
    "    r = conn.execute(query, {'sa4_name':target_sa4})\n",
    "    results = r.fetchall()\n",
    "except Exception as e:\n",
    "    print(e)"
   ]
  },
  {
   "cell_type": "code",
   "execution_count": 16,
   "id": "0e9c21b4",
   "metadata": {},
   "outputs": [
    {
     "name": "stderr",
     "output_type": "stream",
     "text": [
      "100%|██████████| 26/26 [00:32<00:00,  1.27s/it]\n"
     ]
    }
   ],
   "source": [
    "# for each sa2, use the API to get POI and create a new table to store the data\n",
    "\n",
    "poi_data = {\n",
    "    'topoid': [], #primary key\n",
    "    'sa2_id': [], #foreign key\n",
    "    'poitype': []\n",
    "}\n",
    "\n",
    "for row in tqdm.tqdm(results):\n",
    "    sa2_id = row[0]\n",
    "    geom = load_wkb(row[1], hex=True)\n",
    "    pois = POIinBbox(row[2:])\n",
    "    for poi in pois:\n",
    "        poi_geom = Point(poi['geometry']['x'], poi['geometry']['y'])\n",
    "        if geom.contains(poi_geom): #check if poi is inside the SA2(we use bounding box to get the poi)\n",
    "            poi_data['topoid'].append(poi['attributes']['topoid'])\n",
    "            poi_data['sa2_id'].append(sa2_id)\n",
    "            poi_data['poitype'].append(poi['attributes']['poitype'])\n",
    "        else:\n",
    "            continue\n",
    "    time.sleep(1)"
   ]
  },
  {
   "cell_type": "code",
   "execution_count": 17,
   "id": "48c57faf",
   "metadata": {},
   "outputs": [
    {
     "name": "stdout",
     "output_type": "stream",
     "text": [
      "<class 'pandas.core.frame.DataFrame'>\n",
      "RangeIndex: 2367 entries, 0 to 2366\n",
      "Data columns (total 3 columns):\n",
      " #   Column    Non-Null Count  Dtype \n",
      "---  ------    --------------  ----- \n",
      " 0   poi_id    2367 non-null   int64 \n",
      " 1   sa2_id    2367 non-null   int64 \n",
      " 2   poi_type  2367 non-null   object\n",
      "dtypes: int64(2), object(1)\n",
      "memory usage: 55.6+ KB\n",
      "None\n",
      "      poi_id     sa2_id          poi_type\n",
      "0  500174886  121011399  Place Of Worship\n",
      "1  500174997  121011399              Park\n",
      "2  500186660  121011399              Park\n",
      "3  500186948  121011399      Sports Field\n",
      "4  500186982  121011399  Place Of Worship\n"
     ]
    },
    {
     "data": {
      "text/plain": [
       "True"
      ]
     },
     "execution_count": 17,
     "metadata": {},
     "output_type": "execute_result"
    }
   ],
   "source": [
    "poi_df = pd.DataFrame(poi_data)\n",
    "poi_df.rename(columns={\n",
    "    \"topoid\": \"poi_id\", # primary key\n",
    "    \"poitype\": \"poi_type\",\n",
    "}, inplace= True)\n",
    "data_summary(poi_df)\n",
    "check_unique(poi_df, 'poi_id')"
   ]
  },
  {
   "cell_type": "code",
   "execution_count": 21,
   "id": "e7d425a4",
   "metadata": {},
   "outputs": [
    {
     "name": "stdout",
     "output_type": "stream",
     "text": [
      "DROP TABLE IF EXISTS POI CASCADE; executed\n",
      "CREATE TABLE IF NOT EXISTS POI (\n",
      "        poi_id INT PRIMARY KEY,\n",
      "        poi_type VARCHAR(255),\n",
      "        sa2_id INT\n",
      "    ); executed\n"
     ]
    }
   ],
   "source": [
    "# create a new tabel to store poi data\n",
    "create_tables = [\n",
    "    \"\"\"DROP TABLE IF EXISTS POI CASCADE;\"\"\",\n",
    "    \"\"\"CREATE TABLE IF NOT EXISTS POI (\n",
    "        poi_id INT PRIMARY KEY,\n",
    "        poi_type VARCHAR(255),\n",
    "        sa2_id INT\n",
    "    );\"\"\"\n",
    "]\n",
    "for cmd in create_tables:\n",
    "    try:\n",
    "        conn.execute(text(cmd))\n",
    "        print(cmd, \"executed\")\n",
    "    except Exception as e:\n",
    "        conn.rollback()\n",
    "        print(e)\n",
    "        break\n",
    "\n",
    "   "
   ]
  },
  {
   "cell_type": "code",
   "execution_count": 22,
   "id": "098dcfc3",
   "metadata": {},
   "outputs": [
    {
     "data": {
      "text/plain": [
       "367"
      ]
     },
     "execution_count": 22,
     "metadata": {},
     "output_type": "execute_result"
    }
   ],
   "source": [
    "poi_df.to_sql('poi', conn, if_exists='append', index=False)"
   ]
  }
 ],
 "metadata": {
  "kernelspec": {
   "display_name": "base",
   "language": "python",
   "name": "python3"
  },
  "language_info": {
   "codemirror_mode": {
    "name": "ipython",
    "version": 3
   },
   "file_extension": ".py",
   "mimetype": "text/x-python",
   "name": "python",
   "nbconvert_exporter": "python",
   "pygments_lexer": "ipython3",
   "version": "3.11.5"
  }
 },
 "nbformat": 4,
 "nbformat_minor": 5
}
